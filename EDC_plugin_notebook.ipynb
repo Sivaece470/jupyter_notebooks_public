{
 "cells": [
  {
   "cell_type": "code",
   "execution_count": 3,
   "metadata": {
    "slideshow": {
     "slide_type": "slide"
    }
   },
   "outputs": [
    {
     "data": {
      "text/html": [
       "<a href=\"https://invr76dsg1147.informatica.com:9553/ldmcatalog/tableau-edc-iframe.html\" onclick=\"window.open(this.href, 'EDC Plugin', 'width=600, height=600, left=24, top=24, scrollbars'); return false;\">Open EDC IFrame plugin</a>\n"
      ],
      "text/plain": [
       "<IPython.core.display.HTML object>"
      ]
     },
     "metadata": {},
     "output_type": "display_data"
    }
   ],
   "source": [
    "%%html\n",
    "<a href=\"https://invr76dsg1147.informatica.com:9553/ldmcatalog/tableau-edc-iframe.html\" onclick=\"window.open(this.href, 'EDC Plugin', 'width=600, height=600, left=24, top=24, scrollbars'); return false;\">Open EDC IFrame plugin</a>"
   ]
  },
  {
   "cell_type": "code",
   "execution_count": 4,
   "metadata": {
    "slideshow": {
     "slide_type": "slide"
    }
   },
   "outputs": [
    {
     "data": {
      "text/html": [
       "<html>\n",
       "<body>\n",
       "<form>\n",
       "<iframe src=\"https://invr76dsg1147.informatica.com:9553/ldmcatalog/tableau-edc-iframe/index.html\" width=\"550px\" height=\"550px\"/>\n",
       "</form>\n",
       "</body>\n",
       "</html>\n"
      ],
      "text/plain": [
       "<IPython.core.display.HTML object>"
      ]
     },
     "metadata": {},
     "output_type": "display_data"
    }
   ],
   "source": [
    "%%html\n",
    "<html>\n",
    "<body>\n",
    "<form>\n",
    "<iframe src=\"https://invr76dsg1147.informatica.com:9553/ldmcatalog/tableau-edc-iframe/index.html\" width=\"550px\" height=\"550px\"/>\n",
    "</form>\n",
    "</body>\n",
    "</html>"
   ]
  },
  {
   "cell_type": "code",
   "execution_count": 6,
   "metadata": {},
   "outputs": [
    {
     "data": {
      "text/html": [
       "<a href=\"https://invr76dsg1147.informatica.com:9553/ldmcatalog/homePage.html\" onclick=\"window.open(this.href, 'windowName', 'width=500, height=350, left=24, top=24, scrollbars, resizable'); return false;\">Open EDC Test plugin</a>\n"
      ],
      "text/plain": [
       "<IPython.core.display.HTML object>"
      ]
     },
     "metadata": {},
     "output_type": "display_data"
    }
   ],
   "source": [
    "%%html\n",
    "<a href=\"https://invr76dsg1147.informatica.com:9553/ldmcatalog/homePage.html\" onclick=\"window.open(this.href, 'windowName', 'width=500, height=350, left=24, top=24, scrollbars, resizable'); return false;\">Open EDC Test plugin</a>"
   ]
  }
 ],
 "metadata": {
  "celltoolbar": "Tags",
  "kernelspec": {
   "display_name": "Python 3",
   "language": "python",
   "name": "python3"
  },
  "language_info": {
   "codemirror_mode": {
    "name": "ipython",
    "version": 3
   },
   "file_extension": ".py",
   "mimetype": "text/x-python",
   "name": "python",
   "nbconvert_exporter": "python",
   "pygments_lexer": "ipython3",
   "version": "3.7.3"
  },
  "widgets": {
   "application/vnd.jupyter.widget-state+json": {
    "state": {},
    "version_major": 2,
    "version_minor": 0
   }
  }
 },
 "nbformat": 4,
 "nbformat_minor": 2
}
